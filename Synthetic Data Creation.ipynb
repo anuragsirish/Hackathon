{
 "cells": [
  {
   "cell_type": "markdown",
   "metadata": {},
   "source": [
    "# Generating Synthetic Dataset Using R"
   ]
  },
  {
   "cell_type": "code",
   "execution_count": 3,
   "metadata": {},
   "outputs": [
    {
     "name": "stderr",
     "output_type": "stream",
     "text": [
      "also installing the dependencies ‘TH.data’, ‘multcomp’, ‘truncnorm’, ‘mvtnorm’, ‘modeltools’, ‘strucchange’, ‘coin’, ‘sandwich’, ‘spData’, ‘e1071’, ‘cmm’, ‘Rsolnp’, ‘party’, ‘proto’, ‘polspline’, ‘classInt’, ‘mipfp’\n",
      "\n",
      "Updating HTML index of packages in '.Library'\n",
      "Making 'packages.html' ... done\n"
     ]
    }
   ],
   "source": [
    "install.packages(\"synthpop\")"
   ]
  },
  {
   "cell_type": "code",
   "execution_count": 5,
   "metadata": {},
   "outputs": [
    {
     "name": "stderr",
     "output_type": "stream",
     "text": [
      "Loading required package: lattice\n",
      "Loading required package: MASS\n",
      "Loading required package: nnet\n",
      "Loading required package: ggplot2\n"
     ]
    }
   ],
   "source": [
    "library(synthpop)"
   ]
  },
  {
   "cell_type": "code",
   "execution_count": 2,
   "metadata": {},
   "outputs": [],
   "source": [
    "black_fri_sales <- read.csv(file=\"/home/jovyan/Hackathon/sample_data_black_friday_sales.csv\", header=TRUE, sep=\",\")"
   ]
  },
  {
   "cell_type": "code",
   "execution_count": 6,
   "metadata": {},
   "outputs": [
    {
     "data": {
      "text/html": [
       "<table>\n",
       "<thead><tr><th scope=col>X</th><th scope=col>Gender</th><th scope=col>Age</th><th scope=col>Occupation</th><th scope=col>City_Category</th><th scope=col>Stay_In_Current_City_Years</th><th scope=col>Marital_Status</th><th scope=col>Product_Category_1</th><th scope=col>Product_Category_3</th><th scope=col>Purchase</th></tr></thead>\n",
       "<tbody>\n",
       "\t<tr><td>0    </td><td>F    </td><td>0-17 </td><td>10   </td><td>A    </td><td>2    </td><td>0    </td><td> 3   </td><td> 0   </td><td> 8370</td></tr>\n",
       "\t<tr><td>1    </td><td>F    </td><td>0-17 </td><td>10   </td><td>A    </td><td>2    </td><td>0    </td><td> 1   </td><td>14   </td><td>15200</td></tr>\n",
       "\t<tr><td>2    </td><td>F    </td><td>0-17 </td><td>10   </td><td>A    </td><td>2    </td><td>0    </td><td>12   </td><td> 0   </td><td> 1422</td></tr>\n",
       "\t<tr><td>3    </td><td>F    </td><td>0-17 </td><td>10   </td><td>A    </td><td>2    </td><td>0    </td><td>12   </td><td> 0   </td><td> 1057</td></tr>\n",
       "\t<tr><td>4    </td><td>M    </td><td>55   </td><td>16   </td><td>C    </td><td>4    </td><td>0    </td><td> 8   </td><td> 0   </td><td> 7969</td></tr>\n",
       "\t<tr><td>5    </td><td>M    </td><td>26-35</td><td>15   </td><td>A    </td><td>3    </td><td>0    </td><td> 1   </td><td> 0   </td><td>15227</td></tr>\n",
       "</tbody>\n",
       "</table>\n"
      ],
      "text/latex": [
       "\\begin{tabular}{r|llllllllll}\n",
       " X & Gender & Age & Occupation & City\\_Category & Stay\\_In\\_Current\\_City\\_Years & Marital\\_Status & Product\\_Category\\_1 & Product\\_Category\\_3 & Purchase\\\\\n",
       "\\hline\n",
       "\t 0     & F     & 0-17  & 10    & A     & 2     & 0     &  3    &  0    &  8370\\\\\n",
       "\t 1     & F     & 0-17  & 10    & A     & 2     & 0     &  1    & 14    & 15200\\\\\n",
       "\t 2     & F     & 0-17  & 10    & A     & 2     & 0     & 12    &  0    &  1422\\\\\n",
       "\t 3     & F     & 0-17  & 10    & A     & 2     & 0     & 12    &  0    &  1057\\\\\n",
       "\t 4     & M     & 55    & 16    & C     & 4     & 0     &  8    &  0    &  7969\\\\\n",
       "\t 5     & M     & 26-35 & 15    & A     & 3     & 0     &  1    &  0    & 15227\\\\\n",
       "\\end{tabular}\n"
      ],
      "text/markdown": [
       "\n",
       "X | Gender | Age | Occupation | City_Category | Stay_In_Current_City_Years | Marital_Status | Product_Category_1 | Product_Category_3 | Purchase | \n",
       "|---|---|---|---|---|---|\n",
       "| 0     | F     | 0-17  | 10    | A     | 2     | 0     |  3    |  0    |  8370 | \n",
       "| 1     | F     | 0-17  | 10    | A     | 2     | 0     |  1    | 14    | 15200 | \n",
       "| 2     | F     | 0-17  | 10    | A     | 2     | 0     | 12    |  0    |  1422 | \n",
       "| 3     | F     | 0-17  | 10    | A     | 2     | 0     | 12    |  0    |  1057 | \n",
       "| 4     | M     | 55    | 16    | C     | 4     | 0     |  8    |  0    |  7969 | \n",
       "| 5     | M     | 26-35 | 15    | A     | 3     | 0     |  1    |  0    | 15227 | \n",
       "\n",
       "\n"
      ],
      "text/plain": [
       "  X Gender Age   Occupation City_Category Stay_In_Current_City_Years\n",
       "1 0 F      0-17  10         A             2                         \n",
       "2 1 F      0-17  10         A             2                         \n",
       "3 2 F      0-17  10         A             2                         \n",
       "4 3 F      0-17  10         A             2                         \n",
       "5 4 M      55    16         C             4                         \n",
       "6 5 M      26-35 15         A             3                         \n",
       "  Marital_Status Product_Category_1 Product_Category_3 Purchase\n",
       "1 0               3                  0                  8370   \n",
       "2 0               1                 14                 15200   \n",
       "3 0              12                  0                  1422   \n",
       "4 0              12                  0                  1057   \n",
       "5 0               8                  0                  7969   \n",
       "6 0               1                  0                 15227   "
      ]
     },
     "metadata": {},
     "output_type": "display_data"
    }
   ],
   "source": [
    "head(black_fri_sales)"
   ]
  },
  {
   "cell_type": "code",
   "execution_count": 7,
   "metadata": {},
   "outputs": [
    {
     "name": "stdout",
     "output_type": "stream",
     "text": [
      "\n",
      "Variable(s): X not synthesised or used in prediction.\n",
      "CAUTION: The synthesised data will contain the variable(s) unchanged.\n",
      "\n",
      "Synthesis\n",
      "-----------\n",
      " Gender Age Occupation City_Category Stay_In_Current_City_Years Marital_Status Product_Category_1 Product_Category_3 Purchase\n"
     ]
    }
   ],
   "source": [
    "my.seed <- 17914709\n",
    "sds.default <- syn(black_fri_sales, seed = my.seed, visit.sequence = c(2,3,4,5,6,7,8,9,10))"
   ]
  },
  {
   "cell_type": "code",
   "execution_count": 8,
   "metadata": {},
   "outputs": [
    {
     "data": {
      "text/plain": [
       "Call:\n",
       "($call) syn(data = black_fri_sales, visit.sequence = c(2, 3, 4, 5, 6, \n",
       "    7, 8, 9, 10), seed = my.seed)\n",
       "\n",
       "Number of synthesised data sets: \n",
       "($m)  1 \n",
       "\n",
       "First rows of synthesised data set: \n",
       "($syn)\n",
       "  X Gender   Age Occupation City_Category Stay_In_Current_City_Years\n",
       "1 0      M 36-45         15             B                          4\n",
       "2 1      M 26-35         14             C                          1\n",
       "3 2      F 36-45         14             B                          1\n",
       "4 3      M 26-35          2             C                          4\n",
       "5 4      M 46-50         12             C                          0\n",
       "6 5      M 36-45          0             B                          2\n",
       "  Marital_Status Product_Category_1 Product_Category_3 Purchase\n",
       "1              1                  1                 17    15279\n",
       "2              0                  5                  0     7155\n",
       "3              0                  5                  0     7138\n",
       "4              0                  5                  0     6995\n",
       "5              1                  1                  0    15396\n",
       "6              0                  5                  0     7095\n",
       "...\n",
       "\n",
       "Synthesising methods: \n",
       "($method)\n",
       "                         X                     Gender \n",
       "                        \"\"                   \"sample\" \n",
       "                       Age                 Occupation \n",
       "                    \"cart\"                     \"cart\" \n",
       "             City_Category Stay_In_Current_City_Years \n",
       "                    \"cart\"                     \"cart\" \n",
       "            Marital_Status         Product_Category_1 \n",
       "                    \"cart\"                     \"cart\" \n",
       "        Product_Category_3                   Purchase \n",
       "                    \"cart\"                     \"cart\" \n",
       "\n",
       "Order of synthesis: \n",
       "($visit.sequence)\n",
       "                    Gender                        Age \n",
       "                         2                          3 \n",
       "                Occupation              City_Category \n",
       "                         4                          5 \n",
       "Stay_In_Current_City_Years             Marital_Status \n",
       "                         6                          7 \n",
       "        Product_Category_1         Product_Category_3 \n",
       "                         8                          9 \n",
       "                  Purchase \n",
       "                        10 \n",
       "\n",
       "Matrix of predictors: \n",
       "($predictor.matrix)\n",
       "                           X Gender Age Occupation City_Category\n",
       "X                          0      0   0          0             0\n",
       "Gender                     0      0   0          0             0\n",
       "Age                        0      1   0          0             0\n",
       "Occupation                 0      1   1          0             0\n",
       "City_Category              0      1   1          1             0\n",
       "Stay_In_Current_City_Years 0      1   1          1             1\n",
       "Marital_Status             0      1   1          1             1\n",
       "Product_Category_1         0      1   1          1             1\n",
       "Product_Category_3         0      1   1          1             1\n",
       "Purchase                   0      1   1          1             1\n",
       "                           Stay_In_Current_City_Years Marital_Status\n",
       "X                                                   0              0\n",
       "Gender                                              0              0\n",
       "Age                                                 0              0\n",
       "Occupation                                          0              0\n",
       "City_Category                                       0              0\n",
       "Stay_In_Current_City_Years                          0              0\n",
       "Marital_Status                                      1              0\n",
       "Product_Category_1                                  1              1\n",
       "Product_Category_3                                  1              1\n",
       "Purchase                                            1              1\n",
       "                           Product_Category_1 Product_Category_3 Purchase\n",
       "X                                           0                  0        0\n",
       "Gender                                      0                  0        0\n",
       "Age                                         0                  0        0\n",
       "Occupation                                  0                  0        0\n",
       "City_Category                               0                  0        0\n",
       "Stay_In_Current_City_Years                  0                  0        0\n",
       "Marital_Status                              0                  0        0\n",
       "Product_Category_1                          0                  0        0\n",
       "Product_Category_3                          1                  0        0\n",
       "Purchase                                    1                  1        0"
      ]
     },
     "metadata": {},
     "output_type": "display_data"
    }
   ],
   "source": [
    "sds.default"
   ]
  },
  {
   "cell_type": "code",
   "execution_count": 11,
   "metadata": {},
   "outputs": [
    {
     "data": {
      "text/plain": [
       "Synthetic object with one synethesis using methods:\n",
       "                         X                     Gender \n",
       "                        \"\"                   \"sample\" \n",
       "                       Age                 Occupation \n",
       "                    \"cart\"                     \"cart\" \n",
       "             City_Category Stay_In_Current_City_Years \n",
       "                    \"cart\"                     \"cart\" \n",
       "            Marital_Status         Product_Category_1 \n",
       "                    \"cart\"                     \"cart\" \n",
       "        Product_Category_3                   Purchase \n",
       "                    \"cart\"                     \"cart\" \n",
       "\n",
       "       X         Gender       Age          Occupation     City_Category\n",
       " Min.   :    0   F:12060   0-17 : 1375   Min.   : 0.000   A:13993      \n",
       " 1st Qu.:12500   M:37940   18-25: 9627   1st Qu.: 2.000   B:20755      \n",
       " Median :25000             26-35:19699   Median : 7.000   C:15252      \n",
       " Mean   :25000             36-45: 9851   Mean   : 8.141                \n",
       " 3rd Qu.:37499             46-50: 4000   3rd Qu.:14.000                \n",
       " Max.   :49999             51-55: 3474   Max.   :20.000                \n",
       "                           55   : 1974                                 \n",
       " Stay_In_Current_City_Years Marital_Status   Product_Category_1\n",
       " Min.   :0.000              Min.   :0.0000   Min.   : 1.000    \n",
       " 1st Qu.:1.000              1st Qu.:0.0000   1st Qu.: 1.000    \n",
       " Median :2.000              Median :0.0000   Median : 5.000    \n",
       " Mean   :1.867              Mean   :0.4107   Mean   : 5.301    \n",
       " 3rd Qu.:3.000              3rd Qu.:1.0000   3rd Qu.: 8.000    \n",
       " Max.   :4.000              Max.   :1.0000   Max.   :18.000    \n",
       "                                                               \n",
       " Product_Category_3    Purchase    \n",
       " Min.   : 0.000     Min.   :  187  \n",
       " 1st Qu.: 0.000     1st Qu.: 5844  \n",
       " Median : 0.000     Median : 8038  \n",
       " Mean   : 3.919     Mean   : 9276  \n",
       " 3rd Qu.: 8.000     3rd Qu.:12041  \n",
       " Max.   :18.000     Max.   :23958  \n",
       "                                   "
      ]
     },
     "metadata": {},
     "output_type": "display_data"
    }
   ],
   "source": [
    "summary(sds.default)"
   ]
  },
  {
   "cell_type": "code",
   "execution_count": 12,
   "metadata": {},
   "outputs": [
    {
     "data": {
      "text/plain": [
       "       X         Gender       Age          Occupation     City_Category\n",
       " Min.   :    0   F:12188   0-17 : 1409   Min.   : 0.000   A:14049      \n",
       " 1st Qu.:12500   M:37812   18-25: 9615   1st Qu.: 2.000   B:20721      \n",
       " Median :25000             26-35:19731   Median : 7.000   C:15230      \n",
       " Mean   :25000             36-45: 9847   Mean   : 8.143                \n",
       " 3rd Qu.:37499             46-50: 4006   3rd Qu.:14.000                \n",
       " Max.   :49999             51-55: 3490   Max.   :20.000                \n",
       "                           55   : 1902                                 \n",
       " Stay_In_Current_City_Years Marital_Status   Product_Category_1\n",
       " Min.   :0.00               Min.   :0.0000   Min.   : 1.000    \n",
       " 1st Qu.:1.00               1st Qu.:0.0000   1st Qu.: 1.000    \n",
       " Median :2.00               Median :0.0000   Median : 5.000    \n",
       " Mean   :1.86               Mean   :0.4098   Mean   : 5.305    \n",
       " 3rd Qu.:3.00               3rd Qu.:1.0000   3rd Qu.: 8.000    \n",
       " Max.   :4.00               Max.   :1.0000   Max.   :18.000    \n",
       "                                                               \n",
       " Product_Category_3    Purchase    \n",
       " Min.   : 0.000     Min.   :  185  \n",
       " 1st Qu.: 0.000     1st Qu.: 5852  \n",
       " Median : 0.000     Median : 8045  \n",
       " Mean   : 3.859     Mean   : 9279  \n",
       " 3rd Qu.: 8.000     3rd Qu.:12033  \n",
       " Max.   :18.000     Max.   :23958  \n",
       "                                   "
      ]
     },
     "metadata": {},
     "output_type": "display_data"
    }
   ],
   "source": [
    "summary(black_fri_sales)"
   ]
  },
  {
   "cell_type": "code",
   "execution_count": 16,
   "metadata": {},
   "outputs": [],
   "source": [
    "write.csv(sds.default$syn, file = \"/home/jovyan/Hackathon/synthetic_data.csv\")"
   ]
  },
  {
   "cell_type": "code",
   "execution_count": 18,
   "metadata": {},
   "outputs": [
    {
     "data": {
      "text/html": [
       "<table>\n",
       "<thead><tr><th scope=col>X</th><th scope=col>Gender</th><th scope=col>Age</th><th scope=col>Occupation</th><th scope=col>City_Category</th><th scope=col>Stay_In_Current_City_Years</th><th scope=col>Marital_Status</th><th scope=col>Product_Category_1</th><th scope=col>Product_Category_3</th><th scope=col>Purchase</th></tr></thead>\n",
       "<tbody>\n",
       "\t<tr><td>0    </td><td>M    </td><td>36-45</td><td>15   </td><td>B    </td><td>4    </td><td>1    </td><td>1    </td><td>17   </td><td>15279</td></tr>\n",
       "\t<tr><td>1    </td><td>M    </td><td>26-35</td><td>14   </td><td>C    </td><td>1    </td><td>0    </td><td>5    </td><td> 0   </td><td> 7155</td></tr>\n",
       "\t<tr><td>2    </td><td>F    </td><td>36-45</td><td>14   </td><td>B    </td><td>1    </td><td>0    </td><td>5    </td><td> 0   </td><td> 7138</td></tr>\n",
       "\t<tr><td>3    </td><td>M    </td><td>26-35</td><td> 2   </td><td>C    </td><td>4    </td><td>0    </td><td>5    </td><td> 0   </td><td> 6995</td></tr>\n",
       "\t<tr><td>4    </td><td>M    </td><td>46-50</td><td>12   </td><td>C    </td><td>0    </td><td>1    </td><td>1    </td><td> 0   </td><td>15396</td></tr>\n",
       "\t<tr><td>5    </td><td>M    </td><td>36-45</td><td> 0   </td><td>B    </td><td>2    </td><td>0    </td><td>5    </td><td> 0   </td><td> 7095</td></tr>\n",
       "</tbody>\n",
       "</table>\n"
      ],
      "text/latex": [
       "\\begin{tabular}{r|llllllllll}\n",
       " X & Gender & Age & Occupation & City\\_Category & Stay\\_In\\_Current\\_City\\_Years & Marital\\_Status & Product\\_Category\\_1 & Product\\_Category\\_3 & Purchase\\\\\n",
       "\\hline\n",
       "\t 0     & M     & 36-45 & 15    & B     & 4     & 1     & 1     & 17    & 15279\\\\\n",
       "\t 1     & M     & 26-35 & 14    & C     & 1     & 0     & 5     &  0    &  7155\\\\\n",
       "\t 2     & F     & 36-45 & 14    & B     & 1     & 0     & 5     &  0    &  7138\\\\\n",
       "\t 3     & M     & 26-35 &  2    & C     & 4     & 0     & 5     &  0    &  6995\\\\\n",
       "\t 4     & M     & 46-50 & 12    & C     & 0     & 1     & 1     &  0    & 15396\\\\\n",
       "\t 5     & M     & 36-45 &  0    & B     & 2     & 0     & 5     &  0    &  7095\\\\\n",
       "\\end{tabular}\n"
      ],
      "text/markdown": [
       "\n",
       "X | Gender | Age | Occupation | City_Category | Stay_In_Current_City_Years | Marital_Status | Product_Category_1 | Product_Category_3 | Purchase | \n",
       "|---|---|---|---|---|---|\n",
       "| 0     | M     | 36-45 | 15    | B     | 4     | 1     | 1     | 17    | 15279 | \n",
       "| 1     | M     | 26-35 | 14    | C     | 1     | 0     | 5     |  0    |  7155 | \n",
       "| 2     | F     | 36-45 | 14    | B     | 1     | 0     | 5     |  0    |  7138 | \n",
       "| 3     | M     | 26-35 |  2    | C     | 4     | 0     | 5     |  0    |  6995 | \n",
       "| 4     | M     | 46-50 | 12    | C     | 0     | 1     | 1     |  0    | 15396 | \n",
       "| 5     | M     | 36-45 |  0    | B     | 2     | 0     | 5     |  0    |  7095 | \n",
       "\n",
       "\n"
      ],
      "text/plain": [
       "  X Gender Age   Occupation City_Category Stay_In_Current_City_Years\n",
       "1 0 M      36-45 15         B             4                         \n",
       "2 1 M      26-35 14         C             1                         \n",
       "3 2 F      36-45 14         B             1                         \n",
       "4 3 M      26-35  2         C             4                         \n",
       "5 4 M      46-50 12         C             0                         \n",
       "6 5 M      36-45  0         B             2                         \n",
       "  Marital_Status Product_Category_1 Product_Category_3 Purchase\n",
       "1 1              1                  17                 15279   \n",
       "2 0              5                   0                  7155   \n",
       "3 0              5                   0                  7138   \n",
       "4 0              5                   0                  6995   \n",
       "5 1              1                   0                 15396   \n",
       "6 0              5                   0                  7095   "
      ]
     },
     "metadata": {},
     "output_type": "display_data"
    }
   ],
   "source": [
    "head(sds.default$syn)"
   ]
  },
  {
   "cell_type": "code",
   "execution_count": 19,
   "metadata": {},
   "outputs": [
    {
     "ename": "ERROR",
     "evalue": "Error in compare(model.sds, black_fri_sales): object 'model.sds' not found\n",
     "execution_count": 19,
     "output_type": "error",
     "traceback": [
      "Error in compare(model.sds, black_fri_sales): object 'model.sds' not found\nTraceback:\n",
      "1. compare(model.sds, black_fri_sales)"
     ]
    }
   ],
   "source": [
    "compare(model.sds, black_fri_sales)"
   ]
  },
  {
   "cell_type": "code",
   "execution_count": null,
   "metadata": {},
   "outputs": [],
   "source": []
  }
 ],
 "metadata": {
  "kernelspec": {
   "display_name": "R",
   "language": "R",
   "name": "ir"
  },
  "language_info": {
   "codemirror_mode": "r",
   "file_extension": ".r",
   "mimetype": "text/x-r-source",
   "name": "R",
   "pygments_lexer": "r",
   "version": "3.4.1"
  }
 },
 "nbformat": 4,
 "nbformat_minor": 2
}
